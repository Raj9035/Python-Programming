{
 "cells": [
  {
   "cell_type": "code",
   "execution_count": 1,
   "id": "ad8cdd25",
   "metadata": {},
   "outputs": [],
   "source": [
    "import pandas as pd"
   ]
  },
  {
   "cell_type": "code",
   "execution_count": 3,
   "id": "89b6ceba",
   "metadata": {},
   "outputs": [],
   "source": [
    "import numpy as np"
   ]
  },
  {
   "cell_type": "code",
   "execution_count": 4,
   "id": "82ea16e2",
   "metadata": {},
   "outputs": [],
   "source": [
    "marketing_data = pd.read_csv('D:/Evarcity/R-Programming/Marketing_Data.csv')"
   ]
  },
  {
   "cell_type": "code",
   "execution_count": 5,
   "id": "ed296ea7",
   "metadata": {},
   "outputs": [
    {
     "data": {
      "text/html": [
       "<div>\n",
       "<style scoped>\n",
       "    .dataframe tbody tr th:only-of-type {\n",
       "        vertical-align: middle;\n",
       "    }\n",
       "\n",
       "    .dataframe tbody tr th {\n",
       "        vertical-align: top;\n",
       "    }\n",
       "\n",
       "    .dataframe thead th {\n",
       "        text-align: right;\n",
       "    }\n",
       "</style>\n",
       "<table border=\"1\" class=\"dataframe\">\n",
       "  <thead>\n",
       "    <tr style=\"text-align: right;\">\n",
       "      <th></th>\n",
       "      <th>Ad_No</th>\n",
       "      <th>youtube</th>\n",
       "      <th>facebook</th>\n",
       "      <th>newspaper</th>\n",
       "      <th>sales</th>\n",
       "    </tr>\n",
       "  </thead>\n",
       "  <tbody>\n",
       "    <tr>\n",
       "      <th>0</th>\n",
       "      <td>1</td>\n",
       "      <td>276.12</td>\n",
       "      <td>45.36</td>\n",
       "      <td>83.04</td>\n",
       "      <td>26.52</td>\n",
       "    </tr>\n",
       "    <tr>\n",
       "      <th>1</th>\n",
       "      <td>2</td>\n",
       "      <td>53.40</td>\n",
       "      <td>47.16</td>\n",
       "      <td>54.12</td>\n",
       "      <td>12.48</td>\n",
       "    </tr>\n",
       "    <tr>\n",
       "      <th>2</th>\n",
       "      <td>3</td>\n",
       "      <td>20.64</td>\n",
       "      <td>55.08</td>\n",
       "      <td>83.16</td>\n",
       "      <td>11.16</td>\n",
       "    </tr>\n",
       "    <tr>\n",
       "      <th>3</th>\n",
       "      <td>4</td>\n",
       "      <td>181.80</td>\n",
       "      <td>49.56</td>\n",
       "      <td>70.20</td>\n",
       "      <td>22.20</td>\n",
       "    </tr>\n",
       "    <tr>\n",
       "      <th>4</th>\n",
       "      <td>5</td>\n",
       "      <td>216.96</td>\n",
       "      <td>12.96</td>\n",
       "      <td>70.08</td>\n",
       "      <td>15.48</td>\n",
       "    </tr>\n",
       "  </tbody>\n",
       "</table>\n",
       "</div>"
      ],
      "text/plain": [
       "   Ad_No  youtube  facebook  newspaper  sales\n",
       "0      1   276.12     45.36      83.04  26.52\n",
       "1      2    53.40     47.16      54.12  12.48\n",
       "2      3    20.64     55.08      83.16  11.16\n",
       "3      4   181.80     49.56      70.20  22.20\n",
       "4      5   216.96     12.96      70.08  15.48"
      ]
     },
     "execution_count": 5,
     "metadata": {},
     "output_type": "execute_result"
    }
   ],
   "source": [
    "marketing_data.head()"
   ]
  },
  {
   "cell_type": "code",
   "execution_count": 6,
   "id": "10c3676f",
   "metadata": {},
   "outputs": [
    {
     "data": {
      "text/plain": [
       "Ad_No        False\n",
       "youtube       True\n",
       "facebook      True\n",
       "newspaper     True\n",
       "sales        False\n",
       "dtype: bool"
      ]
     },
     "execution_count": 6,
     "metadata": {},
     "output_type": "execute_result"
    }
   ],
   "source": [
    "marketing_data.isnull().any()"
   ]
  },
  {
   "cell_type": "code",
   "execution_count": 7,
   "id": "f4ebc774",
   "metadata": {},
   "outputs": [
    {
     "data": {
      "text/plain": [
       "Ad_No        0\n",
       "youtube      4\n",
       "facebook     4\n",
       "newspaper    3\n",
       "sales        0\n",
       "dtype: int64"
      ]
     },
     "execution_count": 7,
     "metadata": {},
     "output_type": "execute_result"
    }
   ],
   "source": [
    "marketing_data.isnull().sum()"
   ]
  },
  {
   "cell_type": "code",
   "execution_count": 11,
   "id": "8591d95f",
   "metadata": {},
   "outputs": [],
   "source": [
    "marketing_data = marketing_data.fillna(0)"
   ]
  },
  {
   "cell_type": "code",
   "execution_count": 10,
   "id": "e22ff414",
   "metadata": {},
   "outputs": [],
   "source": [
    "## Steps to implements supervised ML alogorithm in Python\n",
    "## These steps are applicable for data prepearation"
   ]
  },
  {
   "cell_type": "code",
   "execution_count": 16,
   "id": "3f0dd7f5",
   "metadata": {},
   "outputs": [],
   "source": [
    "## Step1: get all indepedent vatriable as 'x'\n",
    "\n",
    "x = marketing_data.drop(['Ad_No','sales'], axis = 1)"
   ]
  },
  {
   "cell_type": "code",
   "execution_count": 17,
   "id": "3b9f31db",
   "metadata": {},
   "outputs": [
    {
     "name": "stdout",
     "output_type": "stream",
     "text": [
      "     youtube  facebook  newspaper\n",
      "0     276.12     45.36      83.04\n",
      "1      53.40     47.16      54.12\n",
      "2      20.64     55.08      83.16\n",
      "3     181.80     49.56      70.20\n",
      "4     216.96     12.96      70.08\n",
      "..       ...       ...        ...\n",
      "195    45.84      4.44      16.56\n",
      "196   113.04      0.00       9.72\n",
      "197   212.40     11.16       7.68\n",
      "198   340.32     50.40      79.44\n",
      "199   278.52     10.32      10.44\n",
      "\n",
      "[200 rows x 3 columns]\n"
     ]
    }
   ],
   "source": [
    "print(x)"
   ]
  },
  {
   "cell_type": "code",
   "execution_count": 18,
   "id": "9e82fb41",
   "metadata": {},
   "outputs": [],
   "source": [
    "## Step2: Depedent variable as 'y'\n",
    "y = marketing_data['sales']"
   ]
  },
  {
   "cell_type": "code",
   "execution_count": 19,
   "id": "d5609d91",
   "metadata": {},
   "outputs": [],
   "source": [
    "## Step 3: non numeric column to numeric using 'one_hot_encoding' or 'Lable encoder'"
   ]
  },
  {
   "cell_type": "code",
   "execution_count": null,
   "id": "bbc0a47e",
   "metadata": {},
   "outputs": [],
   "source": [
    "## Step4: if depedent variable is non numeric then convert it into numeric without one_hot_encoding"
   ]
  },
  {
   "cell_type": "code",
   "execution_count": null,
   "id": "80c89b8c",
   "metadata": {},
   "outputs": [],
   "source": [
    "## Step5: Divide the datainto train_test set"
   ]
  },
  {
   "cell_type": "code",
   "execution_count": 20,
   "id": "21cb2c06",
   "metadata": {},
   "outputs": [],
   "source": [
    "from sklearn.model_selection import train_test_split"
   ]
  },
  {
   "cell_type": "code",
   "execution_count": 21,
   "id": "3bd2c4b9",
   "metadata": {},
   "outputs": [],
   "source": [
    "xtrain,xtest,ytrain,ytest = train_test_split(x,y,test_size=0.20)"
   ]
  },
  {
   "cell_type": "code",
   "execution_count": 22,
   "id": "983d0e3a",
   "metadata": {},
   "outputs": [],
   "source": [
    "## Step6: Develop linera regression model\n",
    "\n",
    "from sklearn.linear_model import LinearRegression"
   ]
  },
  {
   "cell_type": "code",
   "execution_count": 23,
   "id": "2f2e486d",
   "metadata": {},
   "outputs": [],
   "source": [
    "model = LinearRegression()"
   ]
  },
  {
   "cell_type": "code",
   "execution_count": 24,
   "id": "ad186390",
   "metadata": {},
   "outputs": [
    {
     "data": {
      "text/plain": [
       "LinearRegression()"
      ]
     },
     "execution_count": 24,
     "metadata": {},
     "output_type": "execute_result"
    }
   ],
   "source": [
    "## Step7: fit the model between xtrain and ytrain\n",
    "model.fit(xtrain, ytrain)"
   ]
  },
  {
   "cell_type": "code",
   "execution_count": 25,
   "id": "38c3ca0c",
   "metadata": {},
   "outputs": [],
   "source": [
    "## Step8: Apply to model into xtest set\n",
    "predicted_sales = model.predict(xtest)"
   ]
  },
  {
   "cell_type": "code",
   "execution_count": 26,
   "id": "7d6b477c",
   "metadata": {},
   "outputs": [],
   "source": [
    "## Validation to xtest and ytest using MSE, RMSE, MAPE\n",
    "from sklearn.metrics import mean_absolute_percentage_error"
   ]
  },
  {
   "cell_type": "code",
   "execution_count": 28,
   "id": "66119d5c",
   "metadata": {},
   "outputs": [
    {
     "data": {
      "text/plain": [
       "11.29201805252769"
      ]
     },
     "execution_count": 28,
     "metadata": {},
     "output_type": "execute_result"
    }
   ],
   "source": [
    "mean_absolute_percentage_error(ytest, predicted_sales)*100"
   ]
  },
  {
   "cell_type": "code",
   "execution_count": 29,
   "id": "3e1049db",
   "metadata": {},
   "outputs": [
    {
     "data": {
      "text/plain": [
       "150.40668385451167"
      ]
     },
     "execution_count": 29,
     "metadata": {},
     "output_type": "execute_result"
    }
   ],
   "source": [
    "from sklearn.metrics import mean_absolute_error\n",
    "\n",
    "mean_absolute_error(ytest, predicted_sales)*100"
   ]
  },
  {
   "cell_type": "code",
   "execution_count": 31,
   "id": "4cc77dd0",
   "metadata": {},
   "outputs": [
    {
     "data": {
      "text/plain": [
       "376.20149309547656"
      ]
     },
     "execution_count": 31,
     "metadata": {},
     "output_type": "execute_result"
    }
   ],
   "source": [
    "from sklearn.metrics import mean_squared_error\n",
    "\n",
    "mean_squared_error(ytest, predicted_sales)*100"
   ]
  },
  {
   "cell_type": "code",
   "execution_count": 36,
   "id": "30ab7ffb",
   "metadata": {},
   "outputs": [
    {
     "data": {
      "text/plain": [
       "DecisionTreeRegressor()"
      ]
     },
     "execution_count": 36,
     "metadata": {},
     "output_type": "execute_result"
    }
   ],
   "source": [
    "## Step10: Develop Decision tree model\n",
    "\n",
    "from sklearn.tree import DecisionTreeRegressor\n",
    "model = DecisionTreeRegressor()\n",
    "model.fit(xtrain, ytrain)"
   ]
  },
  {
   "cell_type": "code",
   "execution_count": 37,
   "id": "68628947",
   "metadata": {},
   "outputs": [],
   "source": [
    "predicted_sales = model.predict(xtest)"
   ]
  },
  {
   "cell_type": "code",
   "execution_count": 38,
   "id": "4a3e397b",
   "metadata": {},
   "outputs": [
    {
     "data": {
      "text/plain": [
       "10.352693109909097"
      ]
     },
     "execution_count": 38,
     "metadata": {},
     "output_type": "execute_result"
    }
   ],
   "source": [
    "mean_absolute_percentage_error(ytest, predicted_sales)*100"
   ]
  },
  {
   "cell_type": "code",
   "execution_count": 39,
   "id": "666cd755",
   "metadata": {},
   "outputs": [
    {
     "data": {
      "text/plain": [
       "123.6"
      ]
     },
     "execution_count": 39,
     "metadata": {},
     "output_type": "execute_result"
    }
   ],
   "source": [
    "mean_absolute_error(ytest, predicted_sales)*100"
   ]
  },
  {
   "cell_type": "code",
   "execution_count": 40,
   "id": "b9d24c91",
   "metadata": {},
   "outputs": [
    {
     "data": {
      "text/plain": [
       "337.9679999999999"
      ]
     },
     "execution_count": 40,
     "metadata": {},
     "output_type": "execute_result"
    }
   ],
   "source": [
    "mean_squared_error(ytest, predicted_sales)*100"
   ]
  },
  {
   "cell_type": "code",
   "execution_count": null,
   "id": "c884e18a",
   "metadata": {},
   "outputs": [],
   "source": [
    "## Step11: Random Forest"
   ]
  },
  {
   "cell_type": "code",
   "execution_count": 43,
   "id": "771f49d8",
   "metadata": {},
   "outputs": [
    {
     "data": {
      "text/plain": [
       "RandomForestRegressor()"
      ]
     },
     "execution_count": 43,
     "metadata": {},
     "output_type": "execute_result"
    }
   ],
   "source": [
    "from sklearn.ensemble import RandomForestRegressor\n",
    "model = RandomForestRegressor()\n",
    "model.fit(xtrain, ytrain)"
   ]
  },
  {
   "cell_type": "code",
   "execution_count": 44,
   "id": "e5312360",
   "metadata": {},
   "outputs": [],
   "source": [
    "predicted_sales = model.predict(xtest)"
   ]
  },
  {
   "cell_type": "code",
   "execution_count": 45,
   "id": "5f7cf868",
   "metadata": {},
   "outputs": [
    {
     "data": {
      "text/plain": [
       "8.649932179135176"
      ]
     },
     "execution_count": 45,
     "metadata": {},
     "output_type": "execute_result"
    }
   ],
   "source": [
    "mean_absolute_percentage_error(ytest, predicted_sales)*100"
   ]
  },
  {
   "cell_type": "code",
   "execution_count": 46,
   "id": "dd442550",
   "metadata": {},
   "outputs": [
    {
     "data": {
      "text/plain": [
       "98.37599999999999"
      ]
     },
     "execution_count": 46,
     "metadata": {},
     "output_type": "execute_result"
    }
   ],
   "source": [
    "mean_absolute_error(ytest, predicted_sales)*100"
   ]
  },
  {
   "cell_type": "code",
   "execution_count": 47,
   "id": "26e49efd",
   "metadata": {},
   "outputs": [
    {
     "data": {
      "text/plain": [
       "324.82203119999923"
      ]
     },
     "execution_count": 47,
     "metadata": {},
     "output_type": "execute_result"
    }
   ],
   "source": [
    "mean_squared_error(ytest, predicted_sales)*100"
   ]
  },
  {
   "cell_type": "code",
   "execution_count": 49,
   "id": "89b3af41",
   "metadata": {},
   "outputs": [
    {
     "name": "stderr",
     "output_type": "stream",
     "text": [
      "C:\\Users\\Rajz\\anaconda3\\lib\\site-packages\\sklearn\\neural_network\\_multilayer_perceptron.py:692: ConvergenceWarning: Stochastic Optimizer: Maximum iterations (200) reached and the optimization hasn't converged yet.\n",
      "  warnings.warn(\n"
     ]
    },
    {
     "data": {
      "text/plain": [
       "MLPRegressor()"
      ]
     },
     "execution_count": 49,
     "metadata": {},
     "output_type": "execute_result"
    }
   ],
   "source": [
    "## Step13: NEURAL NETWORK\n",
    "\n",
    "from sklearn.neural_network import MLPRegressor\n",
    "model=MLPRegressor()\n",
    "model.fit(xtrain, ytrain)"
   ]
  },
  {
   "cell_type": "code",
   "execution_count": 50,
   "id": "99e61aeb",
   "metadata": {},
   "outputs": [],
   "source": [
    "predicted_sales = model.predict(xtest)"
   ]
  },
  {
   "cell_type": "code",
   "execution_count": 51,
   "id": "a855220d",
   "metadata": {},
   "outputs": [
    {
     "data": {
      "text/plain": [
       "13.824675970177408"
      ]
     },
     "execution_count": 51,
     "metadata": {},
     "output_type": "execute_result"
    }
   ],
   "source": [
    "mean_absolute_percentage_error(ytest, predicted_sales)*100"
   ]
  },
  {
   "cell_type": "code",
   "execution_count": 52,
   "id": "8c4467b8",
   "metadata": {},
   "outputs": [
    {
     "data": {
      "text/plain": [
       "160.2689816512664"
      ]
     },
     "execution_count": 52,
     "metadata": {},
     "output_type": "execute_result"
    }
   ],
   "source": [
    "mean_absolute_error(ytest, predicted_sales)*100"
   ]
  },
  {
   "cell_type": "code",
   "execution_count": 53,
   "id": "47d48c5d",
   "metadata": {},
   "outputs": [
    {
     "data": {
      "text/plain": [
       "458.06769723004254"
      ]
     },
     "execution_count": 53,
     "metadata": {},
     "output_type": "execute_result"
    }
   ],
   "source": [
    "mean_squared_error(ytest, predicted_sales)*100"
   ]
  },
  {
   "cell_type": "code",
   "execution_count": null,
   "id": "46ea542e",
   "metadata": {},
   "outputs": [],
   "source": []
  }
 ],
 "metadata": {
  "kernelspec": {
   "display_name": "Python 3 (ipykernel)",
   "language": "python",
   "name": "python3"
  },
  "language_info": {
   "codemirror_mode": {
    "name": "ipython",
    "version": 3
   },
   "file_extension": ".py",
   "mimetype": "text/x-python",
   "name": "python",
   "nbconvert_exporter": "python",
   "pygments_lexer": "ipython3",
   "version": "3.9.12"
  }
 },
 "nbformat": 4,
 "nbformat_minor": 5
}
